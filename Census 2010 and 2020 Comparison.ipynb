{
 "cells": [
  {
   "cell_type": "code",
   "execution_count": 1,
   "metadata": {},
   "outputs": [
    {
     "name": "stderr",
     "output_type": "stream",
     "text": [
      "C:\\Users\\khali\\Anaconda3\\lib\\site-packages\\statsmodels\\tools\\_testing.py:19: FutureWarning: pandas.util.testing is deprecated. Use the functions in the public API at pandas.testing instead.\n",
      "  import pandas.util.testing as tm\n"
     ]
    }
   ],
   "source": [
    "import seaborn as sns\n",
    "from pylab import *\n",
    "import pandas as pd\n",
    "import numpy as np\n",
    "import matplotlib.pyplot as plt\n",
    "%matplotlib inline"
   ]
  },
  {
   "cell_type": "code",
   "execution_count": 2,
   "metadata": {},
   "outputs": [],
   "source": [
    "census = pd.read_csv('Census_2010_and_2020_Population__Region__Counties__Cities__Towns__Villages.csv')"
   ]
  },
  {
   "cell_type": "code",
   "execution_count": 3,
   "metadata": {},
   "outputs": [
    {
     "data": {
      "text/html": [
       "<div>\n",
       "<style scoped>\n",
       "    .dataframe tbody tr th:only-of-type {\n",
       "        vertical-align: middle;\n",
       "    }\n",
       "\n",
       "    .dataframe tbody tr th {\n",
       "        vertical-align: top;\n",
       "    }\n",
       "\n",
       "    .dataframe thead th {\n",
       "        text-align: right;\n",
       "    }\n",
       "</style>\n",
       "<table border=\"1\" class=\"dataframe\">\n",
       "  <thead>\n",
       "    <tr style=\"text-align: right;\">\n",
       "      <th></th>\n",
       "      <th>Area Type</th>\n",
       "      <th>Area Name</th>\n",
       "      <th>2010 Census Population</th>\n",
       "      <th>2020 Census Population</th>\n",
       "      <th>Population Change</th>\n",
       "      <th>Population Percent Change</th>\n",
       "    </tr>\n",
       "  </thead>\n",
       "  <tbody>\n",
       "    <tr>\n",
       "      <th>0</th>\n",
       "      <td>State</td>\n",
       "      <td>New York State</td>\n",
       "      <td>19378102.0</td>\n",
       "      <td>20201249.0</td>\n",
       "      <td>823147.0</td>\n",
       "      <td>0.0425</td>\n",
       "    </tr>\n",
       "    <tr>\n",
       "      <th>1</th>\n",
       "      <td>County</td>\n",
       "      <td>Albany County</td>\n",
       "      <td>304204.0</td>\n",
       "      <td>314848.0</td>\n",
       "      <td>10644.0</td>\n",
       "      <td>0.0350</td>\n",
       "    </tr>\n",
       "    <tr>\n",
       "      <th>2</th>\n",
       "      <td>County</td>\n",
       "      <td>Allegany County</td>\n",
       "      <td>48946.0</td>\n",
       "      <td>46456.0</td>\n",
       "      <td>-2490.0</td>\n",
       "      <td>-0.0509</td>\n",
       "    </tr>\n",
       "    <tr>\n",
       "      <th>3</th>\n",
       "      <td>County</td>\n",
       "      <td>Bronx County</td>\n",
       "      <td>1385108.0</td>\n",
       "      <td>1472654.0</td>\n",
       "      <td>87546.0</td>\n",
       "      <td>0.0632</td>\n",
       "    </tr>\n",
       "    <tr>\n",
       "      <th>4</th>\n",
       "      <td>County</td>\n",
       "      <td>Broome County</td>\n",
       "      <td>200600.0</td>\n",
       "      <td>198683.0</td>\n",
       "      <td>-1917.0</td>\n",
       "      <td>-0.0096</td>\n",
       "    </tr>\n",
       "  </tbody>\n",
       "</table>\n",
       "</div>"
      ],
      "text/plain": [
       "  Area Type        Area Name  2010 Census Population  2020 Census Population  \\\n",
       "0     State   New York State              19378102.0              20201249.0   \n",
       "1    County    Albany County                304204.0                314848.0   \n",
       "2    County  Allegany County                 48946.0                 46456.0   \n",
       "3    County     Bronx County               1385108.0               1472654.0   \n",
       "4    County    Broome County                200600.0                198683.0   \n",
       "\n",
       "   Population Change  Population Percent Change  \n",
       "0           823147.0                     0.0425  \n",
       "1            10644.0                     0.0350  \n",
       "2            -2490.0                    -0.0509  \n",
       "3            87546.0                     0.0632  \n",
       "4            -1917.0                    -0.0096  "
      ]
     },
     "execution_count": 3,
     "metadata": {},
     "output_type": "execute_result"
    }
   ],
   "source": [
    "census.head()"
   ]
  },
  {
   "cell_type": "code",
   "execution_count": 4,
   "metadata": {},
   "outputs": [
    {
     "name": "stdout",
     "output_type": "stream",
     "text": [
      "<class 'pandas.core.frame.DataFrame'>\n",
      "RangeIndex: 1599 entries, 0 to 1598\n",
      "Data columns (total 6 columns):\n",
      " #   Column                     Non-Null Count  Dtype  \n",
      "---  ------                     --------------  -----  \n",
      " 0   Area Type                  1599 non-null   object \n",
      " 1   Area Name                  1599 non-null   object \n",
      " 2   2010 Census Population     1598 non-null   float64\n",
      " 3   2020 Census Population     1598 non-null   float64\n",
      " 4   Population Change          1597 non-null   float64\n",
      " 5   Population Percent Change  1597 non-null   float64\n",
      "dtypes: float64(4), object(2)\n",
      "memory usage: 75.1+ KB\n"
     ]
    }
   ],
   "source": [
    "census.info()"
   ]
  },
  {
   "cell_type": "code",
   "execution_count": 5,
   "metadata": {},
   "outputs": [
    {
     "data": {
      "text/html": [
       "<div>\n",
       "<style scoped>\n",
       "    .dataframe tbody tr th:only-of-type {\n",
       "        vertical-align: middle;\n",
       "    }\n",
       "\n",
       "    .dataframe tbody tr th {\n",
       "        vertical-align: top;\n",
       "    }\n",
       "\n",
       "    .dataframe thead th {\n",
       "        text-align: right;\n",
       "    }\n",
       "</style>\n",
       "<table border=\"1\" class=\"dataframe\">\n",
       "  <thead>\n",
       "    <tr style=\"text-align: right;\">\n",
       "      <th></th>\n",
       "      <th>count</th>\n",
       "      <th>mean</th>\n",
       "      <th>std</th>\n",
       "      <th>min</th>\n",
       "      <th>25%</th>\n",
       "      <th>50%</th>\n",
       "      <th>75%</th>\n",
       "      <th>max</th>\n",
       "    </tr>\n",
       "  </thead>\n",
       "  <tbody>\n",
       "    <tr>\n",
       "      <th>2010 Census Population</th>\n",
       "      <td>1598.0</td>\n",
       "      <td>49654.667710</td>\n",
       "      <td>586611.969038</td>\n",
       "      <td>11.0000</td>\n",
       "      <td>1348.2500</td>\n",
       "      <td>2735.0000</td>\n",
       "      <td>7285.5000</td>\n",
       "      <td>1.937810e+07</td>\n",
       "    </tr>\n",
       "    <tr>\n",
       "      <th>2020 Census Population</th>\n",
       "      <td>1598.0</td>\n",
       "      <td>51742.628285</td>\n",
       "      <td>616760.513492</td>\n",
       "      <td>27.0000</td>\n",
       "      <td>1278.0000</td>\n",
       "      <td>2713.0000</td>\n",
       "      <td>7341.7500</td>\n",
       "      <td>2.020125e+07</td>\n",
       "    </tr>\n",
       "    <tr>\n",
       "      <th>Population Change</th>\n",
       "      <td>1597.0</td>\n",
       "      <td>2069.026299</td>\n",
       "      <td>31688.578009</td>\n",
       "      <td>-18525.0000</td>\n",
       "      <td>-173.0000</td>\n",
       "      <td>-62.0000</td>\n",
       "      <td>43.0000</td>\n",
       "      <td>8.231470e+05</td>\n",
       "    </tr>\n",
       "    <tr>\n",
       "      <th>Population Percent Change</th>\n",
       "      <td>1597.0</td>\n",
       "      <td>-0.017435</td>\n",
       "      <td>0.150076</td>\n",
       "      <td>-0.4641</td>\n",
       "      <td>-0.0696</td>\n",
       "      <td>-0.0294</td>\n",
       "      <td>0.0163</td>\n",
       "      <td>3.545500e+00</td>\n",
       "    </tr>\n",
       "  </tbody>\n",
       "</table>\n",
       "</div>"
      ],
      "text/plain": [
       "                            count          mean            std         min  \\\n",
       "2010 Census Population     1598.0  49654.667710  586611.969038     11.0000   \n",
       "2020 Census Population     1598.0  51742.628285  616760.513492     27.0000   \n",
       "Population Change          1597.0   2069.026299   31688.578009 -18525.0000   \n",
       "Population Percent Change  1597.0     -0.017435       0.150076     -0.4641   \n",
       "\n",
       "                                 25%        50%        75%           max  \n",
       "2010 Census Population     1348.2500  2735.0000  7285.5000  1.937810e+07  \n",
       "2020 Census Population     1278.0000  2713.0000  7341.7500  2.020125e+07  \n",
       "Population Change          -173.0000   -62.0000    43.0000  8.231470e+05  \n",
       "Population Percent Change    -0.0696    -0.0294     0.0163  3.545500e+00  "
      ]
     },
     "execution_count": 5,
     "metadata": {},
     "output_type": "execute_result"
    }
   ],
   "source": [
    "census.describe().T"
   ]
  },
  {
   "cell_type": "markdown",
   "metadata": {},
   "source": [
    "# Data Preprocessing"
   ]
  },
  {
   "cell_type": "code",
   "execution_count": 6,
   "metadata": {},
   "outputs": [
    {
     "data": {
      "text/plain": [
       "Area Type                    0\n",
       "Area Name                    0\n",
       "2010 Census Population       1\n",
       "2020 Census Population       1\n",
       "Population Change            2\n",
       "Population Percent Change    2\n",
       "dtype: int64"
      ]
     },
     "execution_count": 6,
     "metadata": {},
     "output_type": "execute_result"
    }
   ],
   "source": [
    "## check null rows\n",
    "census.isnull().sum()"
   ]
  },
  {
   "cell_type": "code",
   "execution_count": 7,
   "metadata": {},
   "outputs": [],
   "source": [
    "# drop rows with null value\n",
    "\n",
    "census.dropna(axis=0, inplace=True)"
   ]
  },
  {
   "cell_type": "code",
   "execution_count": 8,
   "metadata": {},
   "outputs": [
    {
     "name": "stdout",
     "output_type": "stream",
     "text": [
      "<class 'pandas.core.frame.DataFrame'>\n",
      "Int64Index: 1597 entries, 0 to 1598\n",
      "Data columns (total 6 columns):\n",
      " #   Column                     Non-Null Count  Dtype  \n",
      "---  ------                     --------------  -----  \n",
      " 0   Area Type                  1597 non-null   object \n",
      " 1   Area Name                  1597 non-null   object \n",
      " 2   2010 Census Population     1597 non-null   float64\n",
      " 3   2020 Census Population     1597 non-null   float64\n",
      " 4   Population Change          1597 non-null   float64\n",
      " 5   Population Percent Change  1597 non-null   float64\n",
      "dtypes: float64(4), object(2)\n",
      "memory usage: 87.3+ KB\n"
     ]
    }
   ],
   "source": [
    "census.info()"
   ]
  },
  {
   "cell_type": "code",
   "execution_count": 12,
   "metadata": {},
   "outputs": [
    {
     "data": {
      "text/html": [
       "<div>\n",
       "<style scoped>\n",
       "    .dataframe tbody tr th:only-of-type {\n",
       "        vertical-align: middle;\n",
       "    }\n",
       "\n",
       "    .dataframe tbody tr th {\n",
       "        vertical-align: top;\n",
       "    }\n",
       "\n",
       "    .dataframe thead th {\n",
       "        text-align: right;\n",
       "    }\n",
       "</style>\n",
       "<table border=\"1\" class=\"dataframe\">\n",
       "  <thead>\n",
       "    <tr style=\"text-align: right;\">\n",
       "      <th></th>\n",
       "      <th>Area Type</th>\n",
       "      <th>Area Name</th>\n",
       "      <th>2010 Census Population</th>\n",
       "      <th>2020 Census Population</th>\n",
       "      <th>Population Change</th>\n",
       "      <th>Population Percent Change</th>\n",
       "    </tr>\n",
       "  </thead>\n",
       "  <tbody>\n",
       "    <tr>\n",
       "      <th>0</th>\n",
       "      <td>State</td>\n",
       "      <td>New York State</td>\n",
       "      <td>19378102.0</td>\n",
       "      <td>20201249.0</td>\n",
       "      <td>823147.0</td>\n",
       "      <td>4.250000e-08</td>\n",
       "    </tr>\n",
       "    <tr>\n",
       "      <th>1</th>\n",
       "      <td>County</td>\n",
       "      <td>Albany County</td>\n",
       "      <td>304204.0</td>\n",
       "      <td>314848.0</td>\n",
       "      <td>10644.0</td>\n",
       "      <td>3.500000e-08</td>\n",
       "    </tr>\n",
       "    <tr>\n",
       "      <th>2</th>\n",
       "      <td>County</td>\n",
       "      <td>Allegany County</td>\n",
       "      <td>48946.0</td>\n",
       "      <td>46456.0</td>\n",
       "      <td>-2490.0</td>\n",
       "      <td>-5.090000e-08</td>\n",
       "    </tr>\n",
       "    <tr>\n",
       "      <th>3</th>\n",
       "      <td>County</td>\n",
       "      <td>Bronx County</td>\n",
       "      <td>1385108.0</td>\n",
       "      <td>1472654.0</td>\n",
       "      <td>87546.0</td>\n",
       "      <td>6.320000e-08</td>\n",
       "    </tr>\n",
       "    <tr>\n",
       "      <th>4</th>\n",
       "      <td>County</td>\n",
       "      <td>Broome County</td>\n",
       "      <td>200600.0</td>\n",
       "      <td>198683.0</td>\n",
       "      <td>-1917.0</td>\n",
       "      <td>-9.600000e-09</td>\n",
       "    </tr>\n",
       "  </tbody>\n",
       "</table>\n",
       "</div>"
      ],
      "text/plain": [
       "  Area Type        Area Name  2010 Census Population  2020 Census Population  \\\n",
       "0     State   New York State              19378102.0              20201249.0   \n",
       "1    County    Albany County                304204.0                314848.0   \n",
       "2    County  Allegany County                 48946.0                 46456.0   \n",
       "3    County     Bronx County               1385108.0               1472654.0   \n",
       "4    County    Broome County                200600.0                198683.0   \n",
       "\n",
       "   Population Change  Population Percent Change  \n",
       "0           823147.0               4.250000e-08  \n",
       "1            10644.0               3.500000e-08  \n",
       "2            -2490.0              -5.090000e-08  \n",
       "3            87546.0               6.320000e-08  \n",
       "4            -1917.0              -9.600000e-09  "
      ]
     },
     "execution_count": 12,
     "metadata": {},
     "output_type": "execute_result"
    }
   ],
   "source": [
    "## simplify the census Population Percent Change\n",
    "census[\"Population Percent Change\"] = census[\"Population Percent Change\"] * .001\n",
    "\n",
    "census.head()"
   ]
  },
  {
   "cell_type": "markdown",
   "metadata": {},
   "source": [
    "# Data Visualization and Analysis"
   ]
  },
  {
   "cell_type": "code",
   "execution_count": 13,
   "metadata": {},
   "outputs": [
    {
     "data": {
      "text/plain": [
       "array(['State', 'County', 'City', 'Town', 'Village', 'REDC'], dtype=object)"
      ]
     },
     "execution_count": 13,
     "metadata": {},
     "output_type": "execute_result"
    }
   ],
   "source": [
    "census['Area Type'].unique()"
   ]
  },
  {
   "cell_type": "code",
   "execution_count": 14,
   "metadata": {},
   "outputs": [
    {
     "name": "stdout",
     "output_type": "stream",
     "text": [
      "['New York State' 'Albany County' 'Allegany County' ... 'North Country'\n",
      " 'Southern Tier' 'Western NY']\n",
      "1586\n"
     ]
    }
   ],
   "source": [
    "print(census['Area Name'].unique())\n",
    "\n",
    "print(census['Area Name'].nunique())"
   ]
  }
 ],
 "metadata": {
  "kernelspec": {
   "display_name": "Python 3",
   "language": "python",
   "name": "python3"
  },
  "language_info": {
   "codemirror_mode": {
    "name": "ipython",
    "version": 3
   },
   "file_extension": ".py",
   "mimetype": "text/x-python",
   "name": "python",
   "nbconvert_exporter": "python",
   "pygments_lexer": "ipython3",
   "version": "3.7.4"
  },
  "vscode": {
   "interpreter": {
    "hash": "9d1ee27924a574a3d650ae04a070effa1b0fc7d69e3a2c2763f7ef69e236cbdd"
   }
  }
 },
 "nbformat": 4,
 "nbformat_minor": 2
}
