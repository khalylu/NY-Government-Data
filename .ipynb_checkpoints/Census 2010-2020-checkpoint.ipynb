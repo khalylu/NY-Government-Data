{
 "cells": [
  {
   "cell_type": "code",
   "execution_count": 1,
   "metadata": {},
   "outputs": [],
   "source": [
    "import seaborn as sns\n",
    "from pylab import *\n",
    "import pandas as pd\n",
    "import numpy as np\n",
    "import matplotlib.pyplot as plt\n",
    "%matplotlib inline"
   ]
  },
  {
   "cell_type": "code",
   "execution_count": 2,
   "metadata": {},
   "outputs": [],
   "source": [
    "census = pd.read_csv('Census_2010_and_2020_Population__Region__Counties__Cities__Towns__Villages.csv')"
   ]
  },
  {
   "cell_type": "code",
   "execution_count": 3,
   "metadata": {},
   "outputs": [
    {
     "data": {
      "text/html": [
       "<div>\n",
       "<style scoped>\n",
       "    .dataframe tbody tr th:only-of-type {\n",
       "        vertical-align: middle;\n",
       "    }\n",
       "\n",
       "    .dataframe tbody tr th {\n",
       "        vertical-align: top;\n",
       "    }\n",
       "\n",
       "    .dataframe thead th {\n",
       "        text-align: right;\n",
       "    }\n",
       "</style>\n",
       "<table border=\"1\" class=\"dataframe\">\n",
       "  <thead>\n",
       "    <tr style=\"text-align: right;\">\n",
       "      <th></th>\n",
       "      <th>Area Type</th>\n",
       "      <th>Area Name</th>\n",
       "      <th>2010 Census Population</th>\n",
       "      <th>2020 Census Population</th>\n",
       "      <th>Population Change</th>\n",
       "      <th>Population Percent Change</th>\n",
       "    </tr>\n",
       "  </thead>\n",
       "  <tbody>\n",
       "    <tr>\n",
       "      <td>0</td>\n",
       "      <td>State</td>\n",
       "      <td>New York State</td>\n",
       "      <td>19378102.0</td>\n",
       "      <td>20201249.0</td>\n",
       "      <td>823147.0</td>\n",
       "      <td>0.0425</td>\n",
       "    </tr>\n",
       "    <tr>\n",
       "      <td>1</td>\n",
       "      <td>County</td>\n",
       "      <td>Albany County</td>\n",
       "      <td>304204.0</td>\n",
       "      <td>314848.0</td>\n",
       "      <td>10644.0</td>\n",
       "      <td>0.0350</td>\n",
       "    </tr>\n",
       "    <tr>\n",
       "      <td>2</td>\n",
       "      <td>County</td>\n",
       "      <td>Allegany County</td>\n",
       "      <td>48946.0</td>\n",
       "      <td>46456.0</td>\n",
       "      <td>-2490.0</td>\n",
       "      <td>-0.0509</td>\n",
       "    </tr>\n",
       "    <tr>\n",
       "      <td>3</td>\n",
       "      <td>County</td>\n",
       "      <td>Bronx County</td>\n",
       "      <td>1385108.0</td>\n",
       "      <td>1472654.0</td>\n",
       "      <td>87546.0</td>\n",
       "      <td>0.0632</td>\n",
       "    </tr>\n",
       "    <tr>\n",
       "      <td>4</td>\n",
       "      <td>County</td>\n",
       "      <td>Broome County</td>\n",
       "      <td>200600.0</td>\n",
       "      <td>198683.0</td>\n",
       "      <td>-1917.0</td>\n",
       "      <td>-0.0096</td>\n",
       "    </tr>\n",
       "  </tbody>\n",
       "</table>\n",
       "</div>"
      ],
      "text/plain": [
       "  Area Type        Area Name  2010 Census Population  2020 Census Population  \\\n",
       "0     State   New York State              19378102.0              20201249.0   \n",
       "1    County    Albany County                304204.0                314848.0   \n",
       "2    County  Allegany County                 48946.0                 46456.0   \n",
       "3    County     Bronx County               1385108.0               1472654.0   \n",
       "4    County    Broome County                200600.0                198683.0   \n",
       "\n",
       "   Population Change  Population Percent Change  \n",
       "0           823147.0                     0.0425  \n",
       "1            10644.0                     0.0350  \n",
       "2            -2490.0                    -0.0509  \n",
       "3            87546.0                     0.0632  \n",
       "4            -1917.0                    -0.0096  "
      ]
     },
     "execution_count": 3,
     "metadata": {},
     "output_type": "execute_result"
    }
   ],
   "source": [
    "census.head()"
   ]
  },
  {
   "cell_type": "code",
   "execution_count": null,
   "metadata": {},
   "outputs": [],
   "source": []
  }
 ],
 "metadata": {
  "kernelspec": {
   "display_name": "Python 3",
   "language": "python",
   "name": "python3"
  },
  "language_info": {
   "codemirror_mode": {
    "name": "ipython",
    "version": 3
   },
   "file_extension": ".py",
   "mimetype": "text/x-python",
   "name": "python",
   "nbconvert_exporter": "python",
   "pygments_lexer": "ipython3",
   "version": "3.7.4"
  }
 },
 "nbformat": 4,
 "nbformat_minor": 2
}
