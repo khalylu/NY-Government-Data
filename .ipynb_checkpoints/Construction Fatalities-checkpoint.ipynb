{
 "cells": [
  {
   "cell_type": "code",
   "execution_count": 1,
   "metadata": {},
   "outputs": [],
   "source": [
    "import seaborn as sns\n",
    "from pylab import *\n",
    "import pandas as pd\n",
    "import numpy as np\n",
    "import matplotlib.pyplot as plt\n",
    "%matplotlib inline"
   ]
  },
  {
   "cell_type": "code",
   "execution_count": 6,
   "metadata": {},
   "outputs": [],
   "source": [
    "fatalities = pd.read_csv('Construction_Fatalities__Beginning_2022.csv', index_col= 'Date Death Occurred')"
   ]
  },
  {
   "cell_type": "code",
   "execution_count": 7,
   "metadata": {},
   "outputs": [
    {
     "data": {
      "text/html": [
       "<div>\n",
       "<style scoped>\n",
       "    .dataframe tbody tr th:only-of-type {\n",
       "        vertical-align: middle;\n",
       "    }\n",
       "\n",
       "    .dataframe tbody tr th {\n",
       "        vertical-align: top;\n",
       "    }\n",
       "\n",
       "    .dataframe thead th {\n",
       "        text-align: right;\n",
       "    }\n",
       "</style>\n",
       "<table border=\"1\" class=\"dataframe\">\n",
       "  <thead>\n",
       "    <tr style=\"text-align: right;\">\n",
       "      <th></th>\n",
       "      <th>Business Purpose or Industry</th>\n",
       "      <th>Cause of Death</th>\n",
       "      <th>Union Status</th>\n",
       "      <th>City Death Occurred</th>\n",
       "      <th>Georeference</th>\n",
       "    </tr>\n",
       "    <tr>\n",
       "      <th>Date Death Occurred</th>\n",
       "      <th></th>\n",
       "      <th></th>\n",
       "      <th></th>\n",
       "      <th></th>\n",
       "      <th></th>\n",
       "    </tr>\n",
       "  </thead>\n",
       "  <tbody>\n",
       "    <tr>\n",
       "      <td>02/08/2022</td>\n",
       "      <td>Building Construction</td>\n",
       "      <td>Falls</td>\n",
       "      <td>Non-Union</td>\n",
       "      <td>Nyack</td>\n",
       "      <td>POINT (-73.918239 41.090984)</td>\n",
       "    </tr>\n",
       "    <tr>\n",
       "      <td>03/17/2022</td>\n",
       "      <td>Building Components</td>\n",
       "      <td>Struck by Object</td>\n",
       "      <td>Non-Union</td>\n",
       "      <td>Newburgh</td>\n",
       "      <td>POINT (-74.021352 41.500705)</td>\n",
       "    </tr>\n",
       "    <tr>\n",
       "      <td>04/22/2022</td>\n",
       "      <td>Building Construction</td>\n",
       "      <td>Falls</td>\n",
       "      <td>Union</td>\n",
       "      <td>Jamestown</td>\n",
       "      <td>POINT (-79.242051 42.098961)</td>\n",
       "    </tr>\n",
       "    <tr>\n",
       "      <td>01/24/2022</td>\n",
       "      <td>NaN</td>\n",
       "      <td>Other</td>\n",
       "      <td>NaN</td>\n",
       "      <td>New York City</td>\n",
       "      <td>POINT (-74.007228 40.713054)</td>\n",
       "    </tr>\n",
       "    <tr>\n",
       "      <td>03/21/2022</td>\n",
       "      <td>Renovation</td>\n",
       "      <td>Falls</td>\n",
       "      <td>Non-Union</td>\n",
       "      <td>New York City</td>\n",
       "      <td>POINT (-74.007228 40.713054)</td>\n",
       "    </tr>\n",
       "  </tbody>\n",
       "</table>\n",
       "</div>"
      ],
      "text/plain": [
       "                    Business Purpose or Industry    Cause of Death  \\\n",
       "Date Death Occurred                                                  \n",
       "02/08/2022                 Building Construction             Falls   \n",
       "03/17/2022                   Building Components  Struck by Object   \n",
       "04/22/2022                 Building Construction             Falls   \n",
       "01/24/2022                                   NaN             Other   \n",
       "03/21/2022                            Renovation             Falls   \n",
       "\n",
       "                    Union Status City Death Occurred  \\\n",
       "Date Death Occurred                                    \n",
       "02/08/2022             Non-Union               Nyack   \n",
       "03/17/2022             Non-Union            Newburgh   \n",
       "04/22/2022                 Union           Jamestown   \n",
       "01/24/2022                   NaN       New York City   \n",
       "03/21/2022             Non-Union       New York City   \n",
       "\n",
       "                                     Georeference  \n",
       "Date Death Occurred                                \n",
       "02/08/2022           POINT (-73.918239 41.090984)  \n",
       "03/17/2022           POINT (-74.021352 41.500705)  \n",
       "04/22/2022           POINT (-79.242051 42.098961)  \n",
       "01/24/2022           POINT (-74.007228 40.713054)  \n",
       "03/21/2022           POINT (-74.007228 40.713054)  "
      ]
     },
     "execution_count": 7,
     "metadata": {},
     "output_type": "execute_result"
    }
   ],
   "source": [
    "fatalities.head()"
   ]
  },
  {
   "cell_type": "code",
   "execution_count": null,
   "metadata": {},
   "outputs": [],
   "source": []
  }
 ],
 "metadata": {
  "kernelspec": {
   "display_name": "Python 3",
   "language": "python",
   "name": "python3"
  },
  "language_info": {
   "codemirror_mode": {
    "name": "ipython",
    "version": 3
   },
   "file_extension": ".py",
   "mimetype": "text/x-python",
   "name": "python",
   "nbconvert_exporter": "python",
   "pygments_lexer": "ipython3",
   "version": "3.7.4"
  }
 },
 "nbformat": 4,
 "nbformat_minor": 2
}
