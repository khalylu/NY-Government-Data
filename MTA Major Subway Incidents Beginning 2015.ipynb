{
 "cells": [
  {
   "cell_type": "code",
   "execution_count": 1,
   "metadata": {},
   "outputs": [],
   "source": [
    "import seaborn as sns\n",
    "from pylab import *\n",
    "import pandas as pd\n",
    "import numpy as np\n",
    "import matplotlib.pyplot as plt\n",
    "%matplotlib inline"
   ]
  },
  {
   "cell_type": "code",
   "execution_count": 2,
   "metadata": {},
   "outputs": [],
   "source": [
    "mta_incidents = pd.read_csv('MTA_Subway_Major_Incidents__Beginning_2015.csv')"
   ]
  },
  {
   "cell_type": "code",
   "execution_count": 3,
   "metadata": {},
   "outputs": [
    {
     "data": {
      "text/html": [
       "<div>\n",
       "<style scoped>\n",
       "    .dataframe tbody tr th:only-of-type {\n",
       "        vertical-align: middle;\n",
       "    }\n",
       "\n",
       "    .dataframe tbody tr th {\n",
       "        vertical-align: top;\n",
       "    }\n",
       "\n",
       "    .dataframe thead th {\n",
       "        text-align: right;\n",
       "    }\n",
       "</style>\n",
       "<table border=\"1\" class=\"dataframe\">\n",
       "  <thead>\n",
       "    <tr style=\"text-align: right;\">\n",
       "      <th></th>\n",
       "      <th>month</th>\n",
       "      <th>division</th>\n",
       "      <th>line</th>\n",
       "      <th>category</th>\n",
       "      <th>count</th>\n",
       "    </tr>\n",
       "  </thead>\n",
       "  <tbody>\n",
       "    <tr>\n",
       "      <td>0</td>\n",
       "      <td>2015-01</td>\n",
       "      <td>B DIVISION</td>\n",
       "      <td>Q</td>\n",
       "      <td>Track</td>\n",
       "      <td>2</td>\n",
       "    </tr>\n",
       "    <tr>\n",
       "      <td>1</td>\n",
       "      <td>2015-01</td>\n",
       "      <td>B DIVISION</td>\n",
       "      <td>A</td>\n",
       "      <td>Persons on Trackbed/Police/Medical</td>\n",
       "      <td>1</td>\n",
       "    </tr>\n",
       "    <tr>\n",
       "      <td>2</td>\n",
       "      <td>2015-01</td>\n",
       "      <td>B DIVISION</td>\n",
       "      <td>E</td>\n",
       "      <td>Track</td>\n",
       "      <td>2</td>\n",
       "    </tr>\n",
       "    <tr>\n",
       "      <td>3</td>\n",
       "      <td>2015-01</td>\n",
       "      <td>B DIVISION</td>\n",
       "      <td>A</td>\n",
       "      <td>Track</td>\n",
       "      <td>2</td>\n",
       "    </tr>\n",
       "    <tr>\n",
       "      <td>4</td>\n",
       "      <td>2015-01</td>\n",
       "      <td>B DIVISION</td>\n",
       "      <td>C</td>\n",
       "      <td>Persons on Trackbed/Police/Medical</td>\n",
       "      <td>1</td>\n",
       "    </tr>\n",
       "  </tbody>\n",
       "</table>\n",
       "</div>"
      ],
      "text/plain": [
       "     month    division line                            category  count\n",
       "0  2015-01  B DIVISION    Q                               Track      2\n",
       "1  2015-01  B DIVISION    A  Persons on Trackbed/Police/Medical      1\n",
       "2  2015-01  B DIVISION    E                               Track      2\n",
       "3  2015-01  B DIVISION    A                               Track      2\n",
       "4  2015-01  B DIVISION    C  Persons on Trackbed/Police/Medical      1"
      ]
     },
     "execution_count": 3,
     "metadata": {},
     "output_type": "execute_result"
    }
   ],
   "source": [
    "mta_incidents.head()"
   ]
  },
  {
   "cell_type": "code",
   "execution_count": 4,
   "metadata": {},
   "outputs": [
    {
     "name": "stdout",
     "output_type": "stream",
     "text": [
      "<class 'pandas.core.frame.DataFrame'>\n",
      "RangeIndex: 3173 entries, 0 to 3172\n",
      "Data columns (total 5 columns):\n",
      "month       3173 non-null object\n",
      "division    3173 non-null object\n",
      "line        3173 non-null object\n",
      "category    3173 non-null object\n",
      "count       3173 non-null int64\n",
      "dtypes: int64(1), object(4)\n",
      "memory usage: 124.1+ KB\n"
     ]
    }
   ],
   "source": [
    "mta_incidents.info()"
   ]
  },
  {
   "cell_type": "markdown",
   "metadata": {},
   "source": [
    "# Feature Engineering"
   ]
  },
  {
   "cell_type": "code",
   "execution_count": 5,
   "metadata": {},
   "outputs": [
    {
     "data": {
      "text/html": [
       "<div>\n",
       "<style scoped>\n",
       "    .dataframe tbody tr th:only-of-type {\n",
       "        vertical-align: middle;\n",
       "    }\n",
       "\n",
       "    .dataframe tbody tr th {\n",
       "        vertical-align: top;\n",
       "    }\n",
       "\n",
       "    .dataframe thead th {\n",
       "        text-align: right;\n",
       "    }\n",
       "</style>\n",
       "<table border=\"1\" class=\"dataframe\">\n",
       "  <thead>\n",
       "    <tr style=\"text-align: right;\">\n",
       "      <th></th>\n",
       "      <th>Date</th>\n",
       "      <th>Division</th>\n",
       "      <th>Train Line</th>\n",
       "      <th>Incident Type</th>\n",
       "      <th>Incident Count</th>\n",
       "    </tr>\n",
       "  </thead>\n",
       "  <tbody>\n",
       "    <tr>\n",
       "      <td>0</td>\n",
       "      <td>2015-01</td>\n",
       "      <td>B DIVISION</td>\n",
       "      <td>Q</td>\n",
       "      <td>Track</td>\n",
       "      <td>2</td>\n",
       "    </tr>\n",
       "    <tr>\n",
       "      <td>1</td>\n",
       "      <td>2015-01</td>\n",
       "      <td>B DIVISION</td>\n",
       "      <td>A</td>\n",
       "      <td>Persons on Trackbed/Police/Medical</td>\n",
       "      <td>1</td>\n",
       "    </tr>\n",
       "    <tr>\n",
       "      <td>2</td>\n",
       "      <td>2015-01</td>\n",
       "      <td>B DIVISION</td>\n",
       "      <td>E</td>\n",
       "      <td>Track</td>\n",
       "      <td>2</td>\n",
       "    </tr>\n",
       "    <tr>\n",
       "      <td>3</td>\n",
       "      <td>2015-01</td>\n",
       "      <td>B DIVISION</td>\n",
       "      <td>A</td>\n",
       "      <td>Track</td>\n",
       "      <td>2</td>\n",
       "    </tr>\n",
       "    <tr>\n",
       "      <td>4</td>\n",
       "      <td>2015-01</td>\n",
       "      <td>B DIVISION</td>\n",
       "      <td>C</td>\n",
       "      <td>Persons on Trackbed/Police/Medical</td>\n",
       "      <td>1</td>\n",
       "    </tr>\n",
       "  </tbody>\n",
       "</table>\n",
       "</div>"
      ],
      "text/plain": [
       "      Date    Division Train Line                       Incident Type  \\\n",
       "0  2015-01  B DIVISION          Q                               Track   \n",
       "1  2015-01  B DIVISION          A  Persons on Trackbed/Police/Medical   \n",
       "2  2015-01  B DIVISION          E                               Track   \n",
       "3  2015-01  B DIVISION          A                               Track   \n",
       "4  2015-01  B DIVISION          C  Persons on Trackbed/Police/Medical   \n",
       "\n",
       "   Incident Count  \n",
       "0               2  \n",
       "1               1  \n",
       "2               2  \n",
       "3               2  \n",
       "4               1  "
      ]
     },
     "execution_count": 5,
     "metadata": {},
     "output_type": "execute_result"
    }
   ],
   "source": [
    "# renaming column names using dictionary\n",
    "dict = {'month': 'Date','division': 'Division','line': 'Train Line', 'count' : 'Incident Count', 'category': 'Incident Type'}\n",
    " \n",
    "#rename columns in DataFrame using dictionary\n",
    "mta_incidents.rename(columns=dict, inplace=True)\n",
    "\n",
    "mta_incidents.head()"
   ]
  },
  {
   "cell_type": "code",
   "execution_count": 6,
   "metadata": {},
   "outputs": [
    {
     "data": {
      "text/plain": [
       "array(['2015-01', '2015-02', '2015-03', '2015-04', '2015-05', '2015-06',\n",
       "       '2015-07', '2015-08', '2015-09', '2015-10', '2015-11', '2015-12',\n",
       "       '2016-01', '2016-02', '2016-03', '2016-04', '2016-05', '2016-06',\n",
       "       '2016-07', '2016-08', '2016-09', '2016-10', '2016-11', '2016-12',\n",
       "       '2017-01', '2017-02', '2017-03', '2017-04', '2017-05', '2017-06',\n",
       "       '2017-07', '2017-08', '2017-09', '2017-10', '2017-11', '2017-12',\n",
       "       '2018-01', '2018-02', '2018-03', '2018-04', '2018-05', '2018-06',\n",
       "       '2018-07', '2018-08', '2018-09', '2018-10', '2018-11', '2018-12',\n",
       "       '2019-01', '2019-02', '2019-03', '2019-04', '2019-05', '2019-06',\n",
       "       '2019-07', '2019-08', '2019-09', '2019-10', '2019-11', '2019-12',\n",
       "       '2020-01', '2020-02', '2020-03', '2020-04', '2020-05', '2020-06',\n",
       "       '2020-07', '2020-08', '2020-09', '2020-10', '2020-11', '2020-12',\n",
       "       '2021-01', '2021-02', '2021-03', '2021-04', '2021-05', '2021-06',\n",
       "       '2021-07', '2021-08', '2021-09', '2021-10', '2021-11', '2021-12',\n",
       "       '2022-01', '2022-02', '2022-03', '2022-04', '2022-05', '2022-06'],\n",
       "      dtype=object)"
      ]
     },
     "execution_count": 6,
     "metadata": {},
     "output_type": "execute_result"
    }
   ],
   "source": [
    "mta_incidents['Date'].unique()"
   ]
  },
  {
   "cell_type": "code",
   "execution_count": 7,
   "metadata": {},
   "outputs": [
    {
     "name": "stdout",
     "output_type": "stream",
     "text": [
      "<class 'pandas.core.frame.DataFrame'>\n",
      "DatetimeIndex: 3173 entries, 2015-01-01 to 2022-06-01\n",
      "Data columns (total 4 columns):\n",
      "Division          3173 non-null object\n",
      "Train Line        3173 non-null object\n",
      "Incident Type     3173 non-null object\n",
      "Incident Count    3173 non-null int64\n",
      "dtypes: int64(1), object(3)\n",
      "memory usage: 123.9+ KB\n"
     ]
    }
   ],
   "source": [
    "#changing Date to datetime\n",
    "from datetime import datetime\n",
    "mta_incidents['Date'] = pd.to_datetime(mta_incidents['Date'], format = \"%Y-%m\")\n",
    "\n",
    "# set index column to date\n",
    "mta_incidents.set_index('Date', inplace=True)\n",
    "mta_incidents.info()"
   ]
  },
  {
   "cell_type": "markdown",
   "metadata": {},
   "source": [
    "# EDA and MTA Analysis"
   ]
  },
  {
   "cell_type": "markdown",
   "metadata": {},
   "source": [
    "**Number of unique trains in NY**"
   ]
  },
  {
   "cell_type": "code",
   "execution_count": 8,
   "metadata": {},
   "outputs": [
    {
     "name": "stdout",
     "output_type": "stream",
     "text": [
      "26\n",
      "['Q' 'A' 'E' 'C' 'F' '6' 'M' '5' '2' '1' '4' 'N' '3' 'R' '7' 'B' 'JZ' 'D'\n",
      " 'L' 'G' 'S 42nd' 'NONE' 'S Rock' 'W' 'All' 'S Fkln']\n"
     ]
    }
   ],
   "source": [
    "print(mta_incidents['Train Line'].nunique())\n",
    "print(mta_incidents['Train Line'].unique())"
   ]
  },
  {
   "cell_type": "code",
   "execution_count": null,
   "metadata": {},
   "outputs": [],
   "source": []
  },
  {
   "cell_type": "code",
   "execution_count": null,
   "metadata": {},
   "outputs": [],
   "source": []
  }
 ],
 "metadata": {
  "kernelspec": {
   "display_name": "Python 3",
   "language": "python",
   "name": "python3"
  },
  "language_info": {
   "codemirror_mode": {
    "name": "ipython",
    "version": 3
   },
   "file_extension": ".py",
   "mimetype": "text/x-python",
   "name": "python",
   "nbconvert_exporter": "python",
   "pygments_lexer": "ipython3",
   "version": "3.7.4"
  }
 },
 "nbformat": 4,
 "nbformat_minor": 2
}
